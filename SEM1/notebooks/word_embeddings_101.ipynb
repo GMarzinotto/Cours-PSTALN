{
  "nbformat": 4,
  "nbformat_minor": 0,
  "metadata": {
    "colab": {
      "name": "word_embeddings_101.ipynb",
      "version": "0.3.2",
      "provenance": [],
      "collapsed_sections": []
    },
    "kernelspec": {
      "name": "python3",
      "display_name": "Python 3"
    }
  },
  "cells": [
    {
      "metadata": {
        "id": "sLao8QcyC9lE",
        "colab_type": "code",
        "outputId": "3393a81a-48d4-4db2-8237-ca5797e0f0ea",
        "colab": {
          "base_uri": "https://localhost:8080/",
          "height": 330
        }
      },
      "cell_type": "code",
      "source": [
        "!pip install numpy scipy gensim\n",
        "\n",
        "import warnings\n",
        "warnings.filterwarnings('ignore')\n",
        "\n",
        "import numpy as np"
      ],
      "execution_count": 21,
      "outputs": [
        {
          "output_type": "stream",
          "text": [
            "Requirement already satisfied: numpy in /usr/local/lib/python3.6/dist-packages (1.14.6)\n",
            "Requirement already satisfied: scipy in /usr/local/lib/python3.6/dist-packages (1.1.0)\n",
            "Requirement already satisfied: gensim in /usr/local/lib/python3.6/dist-packages (3.6.0)\n",
            "Requirement already satisfied: smart-open>=1.2.1 in /usr/local/lib/python3.6/dist-packages (from gensim) (1.7.1)\n",
            "Requirement already satisfied: six>=1.5.0 in /usr/local/lib/python3.6/dist-packages (from gensim) (1.11.0)\n",
            "Requirement already satisfied: boto>=2.32 in /usr/local/lib/python3.6/dist-packages (from smart-open>=1.2.1->gensim) (2.49.0)\n",
            "Requirement already satisfied: requests in /usr/local/lib/python3.6/dist-packages (from smart-open>=1.2.1->gensim) (2.18.4)\n",
            "Requirement already satisfied: boto3 in /usr/local/lib/python3.6/dist-packages (from smart-open>=1.2.1->gensim) (1.9.57)\n",
            "Requirement already satisfied: bz2file in /usr/local/lib/python3.6/dist-packages (from smart-open>=1.2.1->gensim) (0.98)\n",
            "Requirement already satisfied: chardet<3.1.0,>=3.0.2 in /usr/local/lib/python3.6/dist-packages (from requests->smart-open>=1.2.1->gensim) (3.0.4)\n",
            "Requirement already satisfied: idna<2.7,>=2.5 in /usr/local/lib/python3.6/dist-packages (from requests->smart-open>=1.2.1->gensim) (2.6)\n",
            "Requirement already satisfied: certifi>=2017.4.17 in /usr/local/lib/python3.6/dist-packages (from requests->smart-open>=1.2.1->gensim) (2018.10.15)\n",
            "Requirement already satisfied: urllib3<1.23,>=1.21.1 in /usr/local/lib/python3.6/dist-packages (from requests->smart-open>=1.2.1->gensim) (1.22)\n",
            "Requirement already satisfied: s3transfer<0.2.0,>=0.1.10 in /usr/local/lib/python3.6/dist-packages (from boto3->smart-open>=1.2.1->gensim) (0.1.13)\n",
            "Requirement already satisfied: botocore<1.13.0,>=1.12.57 in /usr/local/lib/python3.6/dist-packages (from boto3->smart-open>=1.2.1->gensim) (1.12.57)\n",
            "Requirement already satisfied: jmespath<1.0.0,>=0.7.1 in /usr/local/lib/python3.6/dist-packages (from boto3->smart-open>=1.2.1->gensim) (0.9.3)\n",
            "Requirement already satisfied: python-dateutil<3.0.0,>=2.1; python_version >= \"2.7\" in /usr/local/lib/python3.6/dist-packages (from botocore<1.13.0,>=1.12.57->boto3->smart-open>=1.2.1->gensim) (2.5.3)\n",
            "Requirement already satisfied: docutils>=0.10 in /usr/local/lib/python3.6/dist-packages (from botocore<1.13.0,>=1.12.57->boto3->smart-open>=1.2.1->gensim) (0.14)\n"
          ],
          "name": "stdout"
        }
      ]
    },
    {
      "metadata": {
        "id": "-gBjsR_yBRKE",
        "colab_type": "code",
        "outputId": "3c5ee8c2-a368-4a32-ac08-5df6b26b87a3",
        "colab": {
          "base_uri": "https://localhost:8080/",
          "height": 265
        }
      },
      "cell_type": "code",
      "source": [
        "import gensim\n",
        "from gensim.models import word2vec\n",
        "! wget http://mattmahoney.net/dc/text8.zip -P /tmp\n",
        "! unzip /tmp/text8.zip -d /tmp/\n",
        "! head -c10000000 /tmp/text8 > /tmp/text8_10mo\n",
        " \n",
        "\n"
      ],
      "execution_count": 0,
      "outputs": [
        {
          "output_type": "stream",
          "text": [
            "--2018-12-01 23:27:48--  http://mattmahoney.net/dc/text8.zip\n",
            "Resolving mattmahoney.net (mattmahoney.net)... 67.195.197.75\n",
            "Connecting to mattmahoney.net (mattmahoney.net)|67.195.197.75|:80... connected.\n",
            "HTTP request sent, awaiting response... 200 OK\n",
            "Length: 31344016 (30M) [application/zip]\n",
            "Saving to: ‘/tmp/text8.zip.1’\n",
            "\n",
            "text8.zip.1         100%[===================>]  29.89M  2.16MB/s    in 14s     \n",
            "\n",
            "2018-12-01 23:28:02 (2.13 MB/s) - ‘/tmp/text8.zip.1’ saved [31344016/31344016]\n",
            "\n",
            "Archive:  /tmp/text8.zip\n",
            "replace /tmp/text8? [y]es, [n]o, [A]ll, [N]one, [r]ename: "
          ],
          "name": "stdout"
        }
      ]
    },
    {
      "metadata": {
        "id": "y0F-CPnwLUaQ",
        "colab_type": "code",
        "colab": {}
      },
      "cell_type": "code",
      "source": [
        "# lire les donnés que nous avons téléchargé\n",
        "sentences = word2vec.Text8Corpus('/tmp/text8_10mo')\n",
        "for s in sentences:\n",
        "  print(\"a sentence\",s[0:20])\n",
        "  break"
      ],
      "execution_count": 0,
      "outputs": []
    },
    {
      "metadata": {
        "id": "V7-63V6eu_PJ",
        "colab_type": "code",
        "colab": {}
      },
      "cell_type": "code",
      "source": [
        "# Apprendre un modèle de embeddings sur text8\n",
        "params = {\n",
        "    'alpha': 0.05,   # learning rate\n",
        "    'size':  100,    # number of dimensions for the dense representations\n",
        "    'window': 5,     # context window size\n",
        "    'iter':   5,     # nb of iterations \n",
        "    'min_count': 5,  # to ignore very rare words\n",
        "    'negative': 5    # we need negative examples, how many?\n",
        "}\n",
        "\n",
        "my_model = word2vec.Word2Vec(sentences, **params)\n",
        "print(my_model)\n"
      ],
      "execution_count": 0,
      "outputs": []
    },
    {
      "metadata": {
        "id": "z4RgGrOLD3L1",
        "colab_type": "code",
        "colab": {}
      },
      "cell_type": "code",
      "source": [
        "word = 'services'\n",
        "most_similar = my_model.wv.most_similar(positive=[word], topn=5)\n",
        "print('word',word,'most_similar: ', most_similar)\n",
        "\n",
        "word = 'japanese'\n",
        "most_similar = my_model.wv.most_similar(positive=[word], topn=5)\n",
        "print('word',word,'most_similar: ', most_similar)\n",
        "\n",
        "word = 'six'\n",
        "most_similar = my_model.wv.most_similar(positive=[word], topn=5)\n",
        "print('word',word,'most_similar: ', most_similar)\n",
        "\n",
        "word = 'good'\n",
        "most_similar = my_model.wv.most_similar(positive=[word], topn=5)\n",
        "print('word',word,'most_similar: ', most_similar)\n",
        "\n",
        "\n",
        "# Calcul de la similarité cosinus entre deux mots\n",
        "# cos_sim( a,b) =  a*b/|a||b|\n",
        "cos_sim = np.dot( my_model.wv['services'],my_model.wv['facilities'] )/(np.linalg.norm(my_model.wv['services'], ord=2)*np.linalg.norm(my_model.wv['facilities'], ord=2))\n",
        "print('consine similarity between', 'services' , 'facilities', cos_sim)\n"
      ],
      "execution_count": 0,
      "outputs": []
    },
    {
      "metadata": {
        "id": "8tVvSWqmEYVj",
        "colab_type": "code",
        "colab": {}
      },
      "cell_type": "code",
      "source": [
        "# Relations semantiques dans les embeddings\n",
        "most_similar = my_model.wv.most_similar(positive=['woman', 'husband'], negative=['man'], topn=5)\n",
        "print('most_similar: ', most_similar)\n"
      ],
      "execution_count": 0,
      "outputs": []
    },
    {
      "metadata": {
        "id": "Jtk1_sZsj1eQ",
        "colab_type": "code",
        "colab": {}
      },
      "cell_type": "code",
      "source": [
        "most_similar = my_model.wv.most_similar(negative=['korean'], topn=5)\n",
        "print('most_similar: ', most_similar)\n",
        "\n",
        "\n",
        "most_similar = my_model.wv.most_similar(positive=['korean'], topn=10000000000)\n",
        "print('most_similar: ', most_similar[-5:])\n"
      ],
      "execution_count": 0,
      "outputs": []
    },
    {
      "metadata": {
        "id": "yFONMsDMO-Br",
        "colab_type": "text"
      },
      "cell_type": "markdown",
      "source": [
        "### How to select your parameters?\n",
        "\n",
        "Les deux parametres les plus importants sont la taille de la fenêtre et le nombre minimal de occurrences\n",
        "\n",
        "La taille de fenêtre a un impact direct sur ce qui est modelisé :\n",
        "\n",
        "- Des petites fenetres donnent des embeddings très syntaxiques (similarity)\n",
        "\n",
        "- Des fenetres plus grandes donnent des embeddings plus sémantiques (relatedness)\n"
      ]
    },
    {
      "metadata": {
        "id": "T_HAqEMYL65B",
        "colab_type": "code",
        "colab": {}
      },
      "cell_type": "code",
      "source": [
        "# Importance de la taille de fenetre\n",
        "params = {\n",
        "    'alpha': 0.05,   # learning rate\n",
        "    'size':  100,    # number of dimensions for the dense representations\n",
        "    'window': 15,     # context window size\n",
        "    'iter':   5,     # nb of iterations \n",
        "    'min_count': 5,  # to ignore very rare words\n",
        "    'negative': 5    # we need negative examples, how many?\n",
        "}\n",
        "\n",
        "largecontext_model = word2vec.Word2Vec(sentences, **params)\n",
        "\n",
        "\n",
        "params = {\n",
        "    'alpha': 0.05,   # learning rate\n",
        "    'size':  100,    # number of dimensions for the dense representations\n",
        "    'window': 2,     # context window size\n",
        "    'iter':   5,     # nb of iterations \n",
        "    'min_count': 5,  # to ignore very rare words\n",
        "    'negative': 5    # we need negative examples, how many?\n",
        "}\n",
        "\n",
        "smallcontext_model = word2vec.Word2Vec(sentences, **params)\n",
        "\n",
        "\n",
        "\n"
      ],
      "execution_count": 0,
      "outputs": []
    },
    {
      "metadata": {
        "id": "gE8M30vaMSN9",
        "colab_type": "code",
        "colab": {}
      },
      "cell_type": "code",
      "source": [
        "word = 'food'\n",
        "most_similar = largecontext_model.wv.most_similar(positive=[word], topn=5)\n",
        "print('Using a large context... word',word,'most_similar: ', most_similar)\n",
        "\n",
        "most_similar = smallcontext_model.wv.most_similar(positive=[word], topn=5)\n",
        "print('Using a small context... word',word,'most_similar: ', most_similar)\n",
        "\n",
        "\n",
        "\n",
        "\n",
        "word = 'english'\n",
        "most_similar = largecontext_model.wv.most_similar(positive=[word], topn=5)\n",
        "print('Using a large context... word',word,'most_similar: ', most_similar)\n",
        "\n",
        "most_similar = smallcontext_model.wv.most_similar(positive=[word], topn=5)\n",
        "print('Using a small context... word',word,'most_similar: ', most_similar)\n",
        "\n"
      ],
      "execution_count": 0,
      "outputs": []
    },
    {
      "metadata": {
        "id": "25msJnShQGya",
        "colab_type": "text"
      },
      "cell_type": "markdown",
      "source": [
        "### Stabilité des Embeddings\n",
        "\n",
        "L'information utile dans les embeddings est encodé dans les similarités entre les mots et non pas dans leur position dans l'espace\n",
        "\n",
        "Plusieurs executions de W2V sur les mêmes données produissent des embeddings très similaires.\n",
        "\n",
        "C'est-à-dire, les plus proche voisins de chaque mot ne changent presque pas.\n",
        "\n",
        "Mais malheureusement, deux modèles d'embeddings ne partagent pas le même espace de representation"
      ]
    },
    {
      "metadata": {
        "id": "CkFE-nB1QxZL",
        "colab_type": "code",
        "colab": {}
      },
      "cell_type": "code",
      "source": [
        "# Nous allons apprendre deux embeddings avec les même parametres\n",
        "params = {\n",
        "    'alpha': 0.05,   # learning rate\n",
        "    'size':  100,    # number of dimensions for the dense representations\n",
        "    'window': 5,     # context window size\n",
        "    'iter':   5,     # nb of iterations \n",
        "    'min_count': 5,  # to ignore very rare words\n",
        "    'negative': 5    # we need negative examples, how many?\n",
        "}\n",
        "\n",
        "model_run1 = word2vec.Word2Vec(sentences, **params)\n",
        "model_run2 = word2vec.Word2Vec(sentences, **params)\n"
      ],
      "execution_count": 0,
      "outputs": []
    },
    {
      "metadata": {
        "id": "wwPDXWaYRhK0",
        "colab_type": "code",
        "colab": {}
      },
      "cell_type": "code",
      "source": [
        "# Nous devrions trouver a peu près les mêmes voisins pour tous les mots\n",
        "word = 'france'\n",
        "most_similar_run1 = model_run1.wv.most_similar(positive=[word], topn=10)\n",
        "most_similar_run2 = model_run2.wv.most_similar(positive=[word], topn=10)\n",
        "for r1,r2 in zip(most_similar_run1,most_similar_run2):\n",
        "  print('run1',r1,'run2',r2)\n"
      ],
      "execution_count": 0,
      "outputs": []
    },
    {
      "metadata": {
        "id": "D3liERQvSMqe",
        "colab_type": "code",
        "colab": {}
      },
      "cell_type": "code",
      "source": [
        "# Les similarités sont les mêmes, mais malheuresement les coordonées sont très differents \n",
        "\n",
        "word = 'france'\n",
        "print(model_run1.wv[word])\n",
        "print(model_run2.wv[word])\n",
        "\n",
        "# We can compute the cosine similarity across models\n",
        "# If the models were compatible the similarity ~1 for every word.\n",
        "cos_sim = np.dot( model_run1.wv[word],model_run2.wv[word] )/(np.linalg.norm(model_run1.wv[word], ord=2)*np.linalg.norm(model_run2.wv[word], ord=2))\n",
        "print('consine similarity across models for word:', word , 'is', cos_sim)\n"
      ],
      "execution_count": 0,
      "outputs": []
    },
    {
      "metadata": {
        "id": "3pXUNDnKTuI_",
        "colab_type": "text"
      },
      "cell_type": "markdown",
      "source": [
        "### Alignement des embeddings après apprentissage\n",
        "\n",
        "Voici comment aligner des embeddigs dans un même espace.\n",
        "\n",
        "Il y a plusieurs methodes. La plus simple consiste a utiliser un dictionnaire de mots de reference a aligner.\n",
        "\n",
        "Pour construire une la transformation lineaire qui nous envoie d'un espace vers l'autre\n"
      ]
    },
    {
      "metadata": {
        "id": "3W27ulvDcf5Y",
        "colab_type": "code",
        "colab": {}
      },
      "cell_type": "code",
      "source": [
        "# try different values of the number of pivots. The more words used during the alignment the better\n",
        "nb_pivots = 500\n",
        "wordlist = list(model_run1.wv.vocab.keys())[0:nb_pivots]\n",
        "model_run1.init_sims()\n",
        "model_run2.init_sims()\n",
        "\n",
        "\n",
        "# Extraire le vocabulaire de chaque model\n",
        "vocab_m1 = set(model_run1.wv.vocab.keys())\n",
        "vocab_m2 = set(model_run2.wv.vocab.keys())\n",
        "\n",
        "# Extraire le vocabulaire en commun avec la liste \n",
        "common_vocab = list(vocab_m1&vocab_m2&set(wordlist))\n",
        "\n",
        "syn0norms = []\n",
        "# pour chaque modèle...\n",
        "for m in [model_run1,model_run2]:\n",
        "\t# Remplacer syn0norm avec un nouveau array uniquement avec le mots en commun\n",
        "\tindices = [m.wv.vocab[w].index for w in common_vocab]\n",
        "\told_arr = m.wv.syn0norm\n",
        "\tnew_arr = np.array([old_arr[index] for index in indices])\n",
        "\tsyn0norms.append( new_arr )\n",
        "  \n",
        "base_vecs = syn0norms[0]\n",
        "other_vecs = syn0norms[1]\n",
        "\n",
        "# produit scalaire entre les vecteurs de chaque espace\n",
        "m = other_vecs.T.dot(base_vecs) \n",
        "\n",
        "# SVD method \n",
        "u, _, v = np.linalg.svd(m)\n",
        "ortho = u.dot(v) \n",
        "\n",
        "# Replacer les embeddings avec les projections\n",
        "model_run2.wv.syn0norm = model_run2.wv.syn0 = (model_run2.wv.syn0norm).dot(ortho)\n",
        "\n",
        "\n",
        "word = 'france'\n",
        "print(model_run1.wv[word])\n",
        "print(model_run2.wv[word])\n",
        "\n",
        "# We can compute the cosine similarity across models\n",
        "# If the models were compatible the similarity ~1 for every word.\n",
        "cos_sim = np.dot( model_run1.wv[word],model_run2.wv[word] )/(np.linalg.norm(model_run1.wv[word], ord=2)*np.linalg.norm(model_run2.wv[word], ord=2))\n",
        "print('consine similarity across models for word:', word , 'is', cos_sim)\n",
        "\n",
        "\n"
      ],
      "execution_count": 0,
      "outputs": []
    },
    {
      "metadata": {
        "id": "1FaROExcpodd",
        "colab_type": "text"
      },
      "cell_type": "markdown",
      "source": [
        "### Mots hors vocabulaire\n",
        "\n",
        "Je peux apprendre un embedding pour les mots inconnues avec word2vec. \n",
        "\n",
        "Par exemple, je peux reemplace tous les mots rares (count<5) par un token \"_oov_\"  et apprendre mes embeddings normalement"
      ]
    },
    {
      "metadata": {
        "id": "Gk6D1clVndYj",
        "colab_type": "code",
        "colab": {}
      },
      "cell_type": "code",
      "source": [
        "from collections import Counter\n",
        "\n",
        "oov_th = 1\n",
        "\n",
        "count = Counter([x for sent in sentences for x in sent])\n",
        "oov_sentences = []\n",
        "for sent in sentences:\n",
        "  oov_sentences.append( [ s if(count[s]>oov_th) else '_oov_' for s in sent ] )\n",
        "\n",
        "  \n",
        "for oov_sent,sent in zip(list(oov_sentences)[0:5], list(sentences)[0:5]):\n",
        "  print(oov_sent[0:20])\n",
        "  print(sent[0:20])\n",
        "  \n",
        "\n",
        "params = {\n",
        "    'alpha': 0.05,   # learning rate\n",
        "    'size':  100,    # number of dimensions for the dense representations\n",
        "    'window': 15,     # context window size\n",
        "    'iter':   5,     # nb of iterations \n",
        "    'min_count': oov_th,  # to ignore very rare words\n",
        "    'negative': 5    # we need negative examples, how many?\n",
        "}\n",
        "\n",
        "oov_model = word2vec.Word2Vec(oov_sentences, **params)\n",
        "print( 'oov_embedding', oov_model.wv['_oov_'] )"
      ],
      "execution_count": 0,
      "outputs": []
    },
    {
      "metadata": {
        "id": "MTcaM2uL7c6U",
        "colab_type": "code",
        "colab": {}
      },
      "cell_type": "code",
      "source": [
        "most_similar = oov_model.wv.most_similar(positive=['_oov_'], topn=10)\n",
        "print(' word',word,'most_similar: ', most_similar)"
      ],
      "execution_count": 0,
      "outputs": []
    },
    {
      "metadata": {
        "id": "OYGptOLh1-p4",
        "colab_type": "code",
        "colab": {}
      },
      "cell_type": "code",
      "source": [
        "word = 'france'\n",
        "try:\n",
        "    oov_model[word]\n",
        "    print('found a vector for word', word)\n",
        "except:\n",
        "    print('there is no vector for word', word)\n",
        "\n",
        "    \n",
        "word = 'francee'\n",
        "try:\n",
        "    oov_model[word]\n",
        "    print('found a vector for word', word)\n",
        "except:\n",
        "    print('there is no vector for word', word)\n",
        "\n"
      ],
      "execution_count": 0,
      "outputs": []
    },
    {
      "metadata": {
        "id": "Do6LdTv-GbTD",
        "colab_type": "text"
      },
      "cell_type": "markdown",
      "source": [
        "### Handling Unknown words due to typing errors\n",
        "\n",
        "Sometimes we have unknown words produced due to typing errors.\n",
        "\n",
        "The technique above mentioned is not well suited for this type of errors.\n",
        "\n",
        "However, there are other ways to generate embeddings that make systems more robuts to oov words.\n",
        "\n",
        "Fasttext is intended to solve this kind of problems. Lets learn how to use it !"
      ]
    },
    {
      "metadata": {
        "id": "1Gs5T6G60tXC",
        "colab_type": "code",
        "colab": {}
      },
      "cell_type": "code",
      "source": [
        "!pip install cython \n",
        "!pip install fasttext"
      ],
      "execution_count": 0,
      "outputs": []
    },
    {
      "metadata": {
        "id": "h1T83PHU1gYm",
        "colab_type": "code",
        "colab": {}
      },
      "cell_type": "code",
      "source": [
        "# more info about fasttext https://pypi.org/project/fasttext/\n",
        "import fasttext\n",
        "model = fasttext.cbow( '/tmp/text8_10mo', output=\"/tmp/fasttext\" )"
      ],
      "execution_count": 0,
      "outputs": []
    },
    {
      "metadata": {
        "id": "6UipHffE2u-Q",
        "colab_type": "code",
        "colab": {}
      },
      "cell_type": "code",
      "source": [
        "# fasttext builds word embeddings based on the character ngrams in the word\n",
        "# france  = <^fr> <fra> <ran> <anc> <nce> <ce$>       <^fran> <franc> <rance> <ance$>\n",
        "# francee = <^fr> <fra> <ran> <anc> <nce> <cee> <ee$> <^fran> <franc> <rance> <ancee> <ncee$> \n",
        "word = 'france'\n",
        "vector_normal = model['france']\n",
        "vector_faute = model['francee']\n",
        "\n",
        "cos_sim = np.dot(vector_normal,vector_faute)/(np.linalg.norm(vector_normal, ord=2)*np.linalg.norm(vector_faute, ord=2))\n",
        "print('consine similarity in fasttext with errors for word:', word , 'is', cos_sim)\n",
        "\n",
        "\n",
        "# errors in the middle of the word affect more ngrams\n",
        "word = 'france'\n",
        "vector_normal = model['france']\n",
        "vector_faute = model['fraance']\n",
        "\n",
        "cos_sim = np.dot(vector_normal,vector_faute)/(np.linalg.norm(vector_normal, ord=2)*np.linalg.norm(vector_faute, ord=2))\n",
        "print('consine similarity in fasttext with errors for word:', word , 'is', cos_sim)\n",
        "\n",
        "\n",
        "# if you swap triplets you get very similar embeddings\n",
        "word = \"anticonstitutionellement\"\n",
        "vector_normal = model['anticonstitutionellement']\n",
        "vector_faute = model['antitionnelleconstitument']\n",
        "\n",
        "cos_sim = np.dot(vector_normal,vector_faute)/(np.linalg.norm(vector_normal, ord=2)*np.linalg.norm(vector_faute, ord=2))\n",
        "print('consine similarity in fasttext with errors for word:', word , 'is', cos_sim)\n",
        "\n"
      ],
      "execution_count": 0,
      "outputs": []
    }
  ]
}
