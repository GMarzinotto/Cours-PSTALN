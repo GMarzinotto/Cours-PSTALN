{
  "nbformat": 4,
  "nbformat_minor": 0,
  "metadata": {
    "colab": {
      "name": "adversarial_learning(1).ipynb",
      "version": "0.3.2",
      "provenance": [],
      "collapsed_sections": []
    },
    "kernelspec": {
      "name": "python3",
      "display_name": "Python 3"
    }
  },
  "cells": [
    {
      "metadata": {
        "id": "qg029q2A9eWg",
        "colab_type": "code",
        "outputId": "d70f4c74-6111-4438-e991-d57ae6ea42af",
        "colab": {
          "base_uri": "https://localhost:8080/",
          "height": 34
        }
      },
      "cell_type": "code",
      "source": [
        "! pip install torch"
      ],
      "execution_count": 24,
      "outputs": [
        {
          "output_type": "stream",
          "text": [
            "Requirement already satisfied: torch in /usr/local/lib/python3.6/dist-packages (1.0.0)\n"
          ],
          "name": "stdout"
        }
      ]
    },
    {
      "metadata": {
        "id": "W1j-PPXX9xoG",
        "colab_type": "code",
        "colab": {}
      },
      "cell_type": "code",
      "source": [
        "%matplotlib inline"
      ],
      "execution_count": 0,
      "outputs": []
    },
    {
      "metadata": {
        "id": "2FMQi_zq93cQ",
        "colab_type": "code",
        "colab": {}
      },
      "cell_type": "code",
      "source": [
        "import math\n",
        "import random\n",
        "import numpy as np\n",
        "from numpy import linalg as LA\n"
      ],
      "execution_count": 0,
      "outputs": []
    },
    {
      "metadata": {
        "id": "9K1BXW5o-Fz8",
        "colab_type": "code",
        "outputId": "6a7fa9f3-dd1c-4b16-a34b-fc3fa8f85485",
        "colab": {
          "base_uri": "https://localhost:8080/",
          "height": 139
        }
      },
      "cell_type": "code",
      "source": [
        "randn  = np.random.normal(size=(10000,2))\n",
        "angles = np.arctan2( randn[:,0], randn[:,1] )\n",
        "magnit = LA.norm( randn, ord=2, axis=-1 )\n",
        "labels = magnit > 1.0\n",
        "\n",
        "\n",
        "quadrant1 = randn[ np.logical_and(0 < angles, angles < math.pi/2.0),:]\n",
        "angles1   = angles[  np.logical_and(0 < angles, angles < math.pi/2.0) ]\n",
        "labels1   = labels[  np.logical_and(0 < angles, angles < math.pi/2.0) ].astype('int').reshape(-1,1)\n",
        "domain1   = 0*np.ones(labels1.shape, dtype=int)\n",
        "\n",
        "quadrant2 = randn[ np.logical_and(math.pi/2.0 < angles, angles < math.pi),:]\n",
        "angles2   = angles[ np.logical_and(math.pi/2.0 < angles, angles < math.pi) ]\n",
        "labels2   = labels[ np.logical_and(math.pi/2.0 < angles, angles < math.pi) ].astype('int').reshape(-1,1)\n",
        "domain2   = 1*np.ones(labels2.shape, dtype=int)\n",
        "\n",
        "quadrant3 = randn[ np.logical_and(-1*math.pi/2.0 > angles, angles > -1*math.pi),:]\n",
        "angles3   = angles[ np.logical_and(-1*math.pi/2.0 > angles, angles > -1*math.pi) ]\n",
        "labels3   = labels[ np.logical_and(-1*math.pi/2.0 > angles, angles > -1*math.pi) ].astype('int').reshape(-1,1)\n",
        "domain3   = 2*np.ones(labels3.shape, dtype=int)\n",
        "\n",
        "quadrant4 = randn[ np.logical_and(0 > angles, angles > -1*math.pi/2.0),:]\n",
        "angles4   = angles[ np.logical_and(0 > angles, angles > -1*math.pi/2.0) ]\n",
        "labels4   = labels[ np.logical_and(0 > angles, angles > -1*math.pi/2.0) ].astype('int').reshape(-1,1)\n",
        "domain4   = 3*np.ones(labels4.shape, dtype=int)\n",
        "\n",
        "\n",
        "\n",
        "\n",
        "x = np.linspace(-5,5)\n",
        "y = np.linspace(-5,5)\n",
        "X, Y = np.meshgrid(x,y)\n",
        "\n",
        "GRID = np.vstack( (X.flatten(),Y.flatten()) ).transpose()\n",
        "\n",
        "print(GRID)\n",
        "LABELS = LA.norm( GRID, ord=2, axis=-1 ) > 2.0\n",
        "LABELS = LABELS.astype('int').reshape(-1,1)\n",
        "\n",
        "\n",
        "\n"
      ],
      "execution_count": 27,
      "outputs": [
        {
          "output_type": "stream",
          "text": [
            "[[-5.         -5.        ]\n",
            " [-4.79591837 -5.        ]\n",
            " [-4.59183673 -5.        ]\n",
            " ...\n",
            " [ 4.59183673  5.        ]\n",
            " [ 4.79591837  5.        ]\n",
            " [ 5.          5.        ]]\n"
          ],
          "name": "stdout"
        }
      ]
    },
    {
      "metadata": {
        "id": "o9o2gFZW-vpB",
        "colab_type": "code",
        "outputId": "99a632cc-2b59-4ea9-c24e-972dd606ded3",
        "colab": {
          "base_uri": "https://localhost:8080/",
          "height": 265
        }
      },
      "cell_type": "code",
      "source": [
        "from matplotlib import pyplot as plt\n",
        "\n",
        "plt.scatter(quadrant1[:,0],quadrant1[:,1],c=\"b\",label='Q1')\n",
        "#plt.scatter(quadrant2[:,0],quadrant2[:,1],c=\"r\",label='Q2')\n",
        "plt.scatter(quadrant3[:,0],quadrant3[:,1],c=\"g\",label='Q3')\n",
        "#plt.scatter(quadrant4[:,0],quadrant4[:,1],c=\"m\",label='Q4')\n",
        "plt.legend()\n",
        "plt.show()"
      ],
      "execution_count": 28,
      "outputs": [
        {
          "output_type": "display_data",
          "data": {
            "image/png": "[encoded data removed]",
            "text/plain": [
              "<matplotlib.figure.Figure at 0x7fe0311d4e80>"
            ]
          },
          "metadata": {
            "tags": []
          }
        }
      ]
    },
    {
      "metadata": {
        "id": "eHYSxUDRFnpH",
        "colab_type": "code",
        "outputId": "30d4822b-17e5-45f6-e569-d4e09e8e6975",
        "colab": {
          "base_uri": "https://localhost:8080/",
          "height": 265
        }
      },
      "cell_type": "code",
      "source": [
        "from matplotlib import pyplot as plt\n",
        "\n",
        "plt.scatter(quadrant1[:,0],quadrant1[:,1],c=labels1.reshape((-1,)))\n",
        "plt.scatter(quadrant2[:,0],quadrant2[:,1],c=labels2.reshape((-1,)))\n",
        "plt.scatter(quadrant3[:,0],quadrant3[:,1],c=labels3.reshape((-1,)))\n",
        "plt.scatter(quadrant4[:,0],quadrant4[:,1],c=labels4.reshape((-1,)))\n",
        "\n",
        "plt.show()"
      ],
      "execution_count": 29,
      "outputs": [
        {
          "output_type": "display_data",
          "data": {
            "image/png": "[encoded data removed]",
            "text/plain": [
              "<matplotlib.figure.Figure at 0x7fe0308880b8>"
            ]
          },
          "metadata": {
            "tags": []
          }
        }
      ]
    },
    {
      "metadata": {
        "id": "_SZ_k02TK3O0",
        "colab_type": "code",
        "colab": {}
      },
      "cell_type": "code",
      "source": [
        "\n",
        "import torch\n",
        "import torch.nn as nn\n",
        "import torch.nn.functional as F\n",
        "import torch.optim as optim\n",
        "from torch.autograd import Variable\n",
        "\n",
        "batch_size  = 1024\n",
        "hidden_size = 64"
      ],
      "execution_count": 0,
      "outputs": []
    },
    {
      "metadata": {
        "id": "GcxiOTn6K_Sy",
        "colab_type": "code",
        "colab": {}
      },
      "cell_type": "code",
      "source": [
        "from torch.utils.data import TensorDataset, DataLoader\n",
        "\n",
        "train_set = TensorDataset(torch.from_numpy(quadrant1).float(), torch.from_numpy(labels1))\n",
        "valid_set = TensorDataset(torch.from_numpy(GRID).float(), torch.from_numpy(LABELS))\n",
        "\n",
        "\n",
        "train_loader = DataLoader(train_set, batch_size=batch_size, shuffle=True)\n",
        "valid_loader = DataLoader(valid_set, batch_size=batch_size)\n"
      ],
      "execution_count": 0,
      "outputs": []
    },
    {
      "metadata": {
        "id": "k519HNryJ0Dk",
        "colab_type": "code",
        "outputId": "f5a286d4-4610-4933-adf7-36f4ab4227f5",
        "colab": {
          "base_uri": "https://localhost:8080/",
          "height": 139
        }
      },
      "cell_type": "code",
      "source": [
        "class SimpleClassifier(nn.Module):\n",
        "    def __init__(self):\n",
        "        super().__init__()\n",
        "        self.sig    = nn.Sigmoid()\n",
        "        \n",
        "        self.layer1 = nn.Linear(2,hidden_size)\n",
        "        self.layer2 = nn.Linear(hidden_size,hidden_size)\n",
        "        self.layer3 = nn.Linear(hidden_size,hidden_size)\n",
        "        \n",
        "        self.decision = nn.Linear(hidden_size,2)\n",
        "    \n",
        "    def forward(self, coord):\n",
        "        h = self.layer1(coord)\n",
        "        h = self.sig(h)\n",
        "        h = self.layer2(h)\n",
        "        h = self.sig(h)\n",
        "        h = self.layer3(h)\n",
        "        h = self.sig(h)\n",
        "        out = self.decision(h)\n",
        "        return out\n",
        "\n",
        "simple_model = SimpleClassifier()\n",
        "simple_model"
      ],
      "execution_count": 32,
      "outputs": [
        {
          "output_type": "execute_result",
          "data": {
            "text/plain": [
              "SimpleClassifier(\n",
              "  (sig): Sigmoid()\n",
              "  (layer1): Linear(in_features=2, out_features=64, bias=True)\n",
              "  (layer2): Linear(in_features=64, out_features=64, bias=True)\n",
              "  (layer3): Linear(in_features=64, out_features=64, bias=True)\n",
              "  (decision): Linear(in_features=64, out_features=2, bias=True)\n",
              ")"
            ]
          },
          "metadata": {
            "tags": []
          },
          "execution_count": 32
        }
      ]
    },
    {
      "metadata": {
        "id": "OGclEBxMUMZM",
        "colab_type": "code",
        "outputId": "f1940043-37df-465d-9081-09e015375691",
        "colab": {
          "base_uri": "https://localhost:8080/",
          "height": 265
        }
      },
      "cell_type": "code",
      "source": [
        "  \n",
        "def plot_mesh(model, loader):\n",
        "    fig, ax = plt.subplots()\n",
        "    model.eval()\n",
        "    for x, y in loader:\n",
        "        y_scores = model(Variable(x))\n",
        "        y_pred = torch.max(y_scores, 1)[1]\n",
        "        points = ax.scatter( x.numpy()[:,0], x.numpy()[:,1], c=y_pred.numpy(), animated=True )\n",
        "          \n",
        "    circle = plt.Circle((0,0), 1.0, color='r', fill=False, lw=3)\n",
        "    ax.add_artist(circle)\n",
        "    plt.show()\n",
        "        \n",
        "plot_mesh(simple_model, valid_loader)"
      ],
      "execution_count": 33,
      "outputs": [
        {
          "output_type": "display_data",
          "data": {
            "image/png": "[encoded data removed]",
            "text/plain": [
              "<matplotlib.figure.Figure at 0x7fe030832390>"
            ]
          },
          "metadata": {
            "tags": []
          }
        }
      ]
    },
    {
      "metadata": {
        "id": "mGQZwL44Oz-c",
        "colab_type": "code",
        "outputId": "3c3ba7e5-6916-4ba6-d789-afcaa4a3db0e",
        "colab": {
          "base_uri": "https://localhost:8080/",
          "height": 2036
        }
      },
      "cell_type": "code",
      "source": [
        "def perf(model, loader):\n",
        "    criterion = nn.CrossEntropyLoss()\n",
        "    model.eval()\n",
        "    total_loss = num = oks = 0\n",
        "    for x, y in loader:\n",
        "        y_scores = model(Variable(x))\n",
        "        y_pred = torch.max(y_scores, 1)[1]\n",
        "        \n",
        "        loss = criterion(y_scores.view(y.size(0) * y.size(1), -1), Variable(y.view(y.size(0) * y.size(1)), volatile=True))\n",
        "        total_loss += loss.data\n",
        "        num += len(y)\n",
        "        oks += torch.sum((y_pred.data == y))\n",
        "        \n",
        "    return total_loss / num, math.exp(total_loss / num), float(oks)/float(num)\n",
        "   \n",
        "\n",
        "def fit(model, epochs):\n",
        "    animation_data = []\n",
        "    criterion = nn.CrossEntropyLoss()\n",
        "    optimizer = optim.Adam(model.parameters())\n",
        "    for epoch in range(epochs):\n",
        "        model.train()\n",
        "        total_loss = num = 0\n",
        "        \n",
        "        for x, y in train_loader:\n",
        "            optimizer.zero_grad()\n",
        "            y_scores = model(Variable(x))\n",
        "            loss = criterion(y_scores.view(y.size(0) * y.size(1), -1), Variable(y.view(y.size(0) * y.size(1))))\n",
        "            loss.backward()\n",
        "            optimizer.step()\n",
        "            total_loss += loss.data\n",
        "            num += len(y)\n",
        "            \n",
        "        if(epoch%50 == 0):\n",
        "            print(epoch, total_loss / num, *perf(model, valid_loader))\n",
        "\n",
        "        \n",
        "fit(simple_model, 5000)\n",
        "plot_mesh(simple_model, valid_loader)"
      ],
      "execution_count": 34,
      "outputs": [
        {
          "output_type": "stream",
          "text": [
            "/usr/local/lib/python3.6/dist-packages/ipykernel_launcher.py:9: UserWarning: volatile was removed and now has no effect. Use `with torch.no_grad():` instead.\n",
            "  if __name__ == '__main__':\n"
          ],
          "name": "stderr"
        },
        {
          "output_type": "stream",
          "text": [
            "0 tensor(0.0008) tensor(0.0006) 1.0006319496335123 797.7024\n",
            "50 tensor(0.0002) tensor(0.0036) 1.0036121301746108 331.288\n",
            "100 tensor(0.0001) tensor(0.0048) 1.0048523194951524 333.8896\n",
            "150 tensor(0.0001) tensor(0.0050) 1.0050274424239583 334.432\n",
            "200 tensor(0.0001) tensor(0.0050) 1.0050344671641214 339.5392\n",
            "250 tensor(0.0001) tensor(0.0051) 1.0051047570495755 342.3696\n",
            "300 tensor(0.0001) tensor(0.0052) 1.0052493360764054 350.4016\n",
            "350 tensor(9.2336e-05) tensor(0.0056) 1.0055727840733346 357.6624\n",
            "400 tensor(6.9633e-05) tensor(0.0061) 1.0060833528348145 369.3248\n",
            "450 tensor(4.6933e-05) tensor(0.0068) 1.0067728369900377 380.8064\n",
            "500 tensor(3.4492e-05) tensor(0.0075) 1.0075741845315989 385.9104\n",
            "550 tensor(2.7954e-05) tensor(0.0083) 1.0083583323572565 389.1648\n",
            "600 tensor(2.5075e-05) tensor(0.0090) 1.0090498468753597 390.1024\n",
            "650 tensor(2.0802e-05) tensor(0.0096) 1.0096740090632002 389.976\n",
            "700 tensor(1.7115e-05) tensor(0.0102) 1.01023569871829 389.5744\n",
            "750 tensor(1.7240e-05) tensor(0.0107) 1.0107284516340598 389.5744\n",
            "800 tensor(1.4993e-05) tensor(0.0111) 1.0111891209247759 389.3936\n",
            "850 tensor(1.3808e-05) tensor(0.0115) 1.0115978202440585 389.752\n",
            "900 tensor(1.4834e-05) tensor(0.0119) 1.0120045235892758 389.032\n",
            "950 tensor(1.3482e-05) tensor(0.0123) 1.012364758482386 389.032\n",
            "1000 tensor(1.2120e-05) tensor(0.0126) 1.0127132159928494 389.3904\n",
            "1050 tensor(1.1287e-05) tensor(0.0130) 1.0130448957259919 389.3904\n",
            "1100 tensor(1.0807e-05) tensor(0.0133) 1.0133869128351136 389.032\n",
            "1150 tensor(1.0922e-05) tensor(0.0136) 1.0136707682001436 389.3904\n",
            "1200 tensor(1.0073e-05) tensor(0.0139) 1.0139726046861568 389.3904\n",
            "1250 tensor(9.4511e-06) tensor(0.0142) 1.0142746604612576 389.032\n",
            "1300 tensor(9.0296e-06) tensor(0.0144) 1.014552404512071 388.3152\n",
            "1350 tensor(1.0445e-05) tensor(0.0147) 1.014844034070146 388.6736\n",
            "1400 tensor(1.1643e-05) tensor(0.0150) 1.0150713182616007 389.3904\n",
            "1450 tensor(9.1511e-06) tensor(0.0152) 1.0153590459063309 388.0944\n",
            "1500 tensor(9.0946e-06) tensor(0.0155) 1.0155890587950627 388.3152\n",
            "1550 tensor(1.0010e-05) tensor(0.0157) 1.015799582259496 389.2128\n",
            "1600 tensor(9.1301e-06) tensor(0.0159) 1.0160295918030953 389.032\n",
            "1650 tensor(7.4731e-06) tensor(0.0161) 1.0162497099097234 388.6768\n",
            "1700 tensor(7.9749e-06) tensor(0.0163) 1.0164829681145915 388.496\n",
            "1750 tensor(7.8165e-06) tensor(0.0165) 1.0166646850870533 389.752\n",
            "1800 tensor(8.1703e-06) tensor(0.0167) 1.0168783038936682 389.0352\n",
            "1850 tensor(7.4829e-06) tensor(0.0169) 1.0170818529992764 389.0352\n",
            "1900 tensor(7.7575e-06) tensor(0.0171) 1.0172481663097628 389.3936\n",
            "1950 tensor(7.5895e-06) tensor(0.0173) 1.0174606190007436 388.6768\n",
            "2000 tensor(9.9226e-06) tensor(0.0175) 1.0176121830898934 389.0352\n",
            "2050 tensor(7.0520e-06) tensor(0.0177) 1.0178198338051823 389.0352\n",
            "2100 tensor(7.3047e-06) tensor(0.0178) 1.018001116627243 389.0352\n",
            "2150 tensor(7.9677e-06) tensor(0.0180) 1.0181179409735057 389.6576\n",
            "2200 tensor(6.4793e-06) tensor(0.0181) 1.018287606377025 389.6576\n",
            "2250 tensor(6.5920e-06) tensor(0.0183) 1.0184861105739547 389.6576\n",
            "2300 tensor(6.7239e-06) tensor(0.0185) 1.0186760789355858 389.6576\n",
            "2350 tensor(6.2668e-06) tensor(0.0187) 1.018840225724489 389.6576\n",
            "2400 tensor(6.6712e-06) tensor(0.0188) 1.0189891388072905 389.6576\n",
            "2450 tensor(9.8981e-06) tensor(0.0189) 1.0190894880144716 390.6384\n",
            "2500 tensor(7.7682e-06) tensor(0.0191) 1.0192399468216464 390.28\n",
            "2550 tensor(6.3747e-06) tensor(0.0192) 1.0193976925343535 389.8784\n",
            "2600 tensor(6.2961e-06) tensor(0.0194) 1.0195563837104307 389.8784\n",
            "2650 tensor(5.5874e-06) tensor(0.0195) 1.0197024118950115 389.8784\n",
            "2700 tensor(4.9163e-06) tensor(0.0196) 1.0198034220989851 390.8592\n",
            "2750 tensor(6.6717e-06) tensor(0.0198) 1.0199816403550732 390.6384\n",
            "2800 tensor(1.3238e-05) tensor(0.0199) 1.0201152000283433 390.5008\n",
            "2850 tensor(6.1236e-06) tensor(0.0200) 1.0202403510225353 390.28\n",
            "2900 tensor(6.0538e-06) tensor(0.0201) 1.0203483799947939 390.5008\n",
            "2950 tensor(6.8649e-06) tensor(0.0203) 1.0205020754981093 390.5008\n",
            "3000 tensor(6.1251e-06) tensor(0.0204) 1.0206309981513735 390.5008\n",
            "3050 tensor(5.7220e-06) tensor(0.0205) 1.0207502803659496 390.5008\n",
            "3100 tensor(7.7078e-06) tensor(0.0207) 1.0208810104115125 390.5008\n",
            "3150 tensor(6.7820e-06) tensor(0.0208) 1.0209907978691293 390.9024\n",
            "3200 tensor(5.0655e-06) tensor(0.0208) 1.0210672565280803 391.4816\n",
            "3250 tensor(6.5115e-06) tensor(0.0210) 1.0212008404230564 391.2608\n",
            "3300 tensor(6.7518e-06) tensor(0.0211) 1.02132421272888 390.9024\n",
            "3350 tensor(4.7437e-06) tensor(0.0212) 1.0214135345544508 391.7024\n",
            "3400 tensor(5.8081e-06) tensor(0.0213) 1.0215722369902254 391.4816\n",
            "3450 tensor(7.2697e-06) tensor(0.0214) 1.021669224858651 391.7024\n",
            "3500 tensor(4.6037e-06) tensor(0.0215) 1.0217832765441608 391.8832\n",
            "3550 tensor(5.7629e-06) tensor(0.0216) 1.0218660585334103 391.7024\n",
            "3600 tensor(5.7945e-06) tensor(0.0218) 1.022013852876648 391.7024\n",
            "3650 tensor(5.3007e-06) tensor(0.0218) 1.0220605066710715 391.8832\n",
            "3700 tensor(6.7940e-06) tensor(0.0220) 1.022199315587536 391.7024\n",
            "3750 tensor(4.6071e-06) tensor(0.0220) 1.0222403665353108 392.104\n",
            "3800 tensor(4.8089e-06) tensor(0.0221) 1.0223888510673065 391.8832\n",
            "3850 tensor(6.2740e-06) tensor(0.0222) 1.0224782317215664 392.104\n",
            "3900 tensor(5.5073e-06) tensor(0.0224) 1.022623533617911 391.8832\n",
            "3950 tensor(4.9789e-06) tensor(0.0224) 1.0227031624354914 392.4624\n",
            "4000 tensor(4.9570e-06) tensor(0.0226) 1.0228063197642752 392.4624\n",
            "4050 tensor(5.9525e-06) tensor(0.0226) 1.0228366078936324 393.2624\n",
            "4100 tensor(6.5656e-06) tensor(0.0227) 1.0229302289937088 393.0848\n",
            "4150 tensor(5.1705e-06) tensor(0.0228) 1.0230142834174145 393.0848\n",
            "4200 tensor(4.6712e-06) tensor(0.0228) 1.023109531087069 392.104\n",
            "4250 tensor(4.8302e-06) tensor(0.0229) 1.023178262105629 393.0848\n",
            "4300 tensor(5.7900e-06) tensor(0.0230) 1.023258538309892 393.0848\n",
            "4350 tensor(4.8181e-06) tensor(0.0231) 1.0233509456950833 393.4432\n",
            "4400 tensor(6.0006e-06) tensor(0.0232) 1.0234869520794987 392.5056\n",
            "4450 tensor(3.9810e-06) tensor(0.0233) 1.023577317190615 393.0848\n",
            "4500 tensor(4.6463e-06) tensor(0.0234) 1.0236798610079505 391.8832\n",
            "4550 tensor(4.6625e-06) tensor(0.0234) 1.0237232843996646 393.3056\n",
            "4600 tensor(4.2254e-06) tensor(0.0235) 1.023827534372156 393.3056\n",
            "4650 tensor(3.9463e-06) tensor(0.0236) 1.0238336483202253 393.4864\n",
            "4700 tensor(3.3643e-06) tensor(0.0236) 1.0239302882569044 393.8448\n",
            "4750 tensor(3.7139e-06) tensor(0.0237) 1.024033002861625 393.664\n",
            "4800 tensor(4.4439e-06) tensor(0.0238) 1.0241356724496242 393.8448\n",
            "4850 tensor(4.2875e-06) tensor(0.0240) 1.0242480325166696 393.4864\n",
            "4900 tensor(4.1825e-06) tensor(0.0241) 1.0243608303995078 393.3056\n",
            "4950 tensor(4.0183e-06) tensor(0.0242) 1.0244709939917154 393.4864\n"
          ],
          "name": "stdout"
        },
        {
          "output_type": "display_data",
          "data": {
            "image/png": "[encoded data removed]",
            "text/plain": [
              "<matplotlib.figure.Figure at 0x7fe0753bde80>"
            ]
          },
          "metadata": {
            "tags": []
          }
        }
      ]
    },
    {
      "metadata": {
        "id": "iruG8SgqaO4d",
        "colab_type": "code",
        "outputId": "b690425b-55ad-4ec1-baec-f749e8706a9e",
        "colab": {
          "base_uri": "https://localhost:8080/",
          "height": 156
        }
      },
      "cell_type": "code",
      "source": [
        "from torch.autograd import Function\n",
        "\n",
        "class GradReverse(Function):\n",
        "    @staticmethod\n",
        "    def forward(ctx, x):\n",
        "        return x.view_as(x)\n",
        "\n",
        "    @staticmethod\n",
        "    def backward(ctx, grad_output):\n",
        "        return grad_output.neg()\n",
        "\n",
        "def grad_reverse(x):\n",
        "    return GradReverse.apply(x)\n",
        "  \n",
        "  \n",
        "\n",
        "class AdversarialClassifier(nn.Module):\n",
        "    def __init__(self):\n",
        "        super().__init__()\n",
        "        self.sig    = nn.Sigmoid()\n",
        "        \n",
        "        self.layer1 = nn.Linear(2,hidden_size)\n",
        "        self.layer2 = nn.Linear(hidden_size,hidden_size)\n",
        "        self.layer3 = nn.Linear(hidden_size,hidden_size)\n",
        "        \n",
        "        self.decision = nn.Linear(hidden_size,2)\n",
        "        self.adversarial = nn.Linear(hidden_size,4)\n",
        "    \n",
        "    def forward(self, coord):\n",
        "        h = self.layer1(coord)\n",
        "        h = self.sig(h)\n",
        "        h = self.layer2(h)\n",
        "        h = self.sig(h)\n",
        "        h = self.layer3(h)\n",
        "        h = self.sig(h)\n",
        "        \n",
        "        out = self.decision(h)\n",
        "        \n",
        "        adv = grad_reverse(h)\n",
        "        adv = self.adversarial(adv)\n",
        "        \n",
        "        return out, adv\n",
        "\n",
        "adversarial_model = AdversarialClassifier()\n",
        "adversarial_model"
      ],
      "execution_count": 35,
      "outputs": [
        {
          "output_type": "execute_result",
          "data": {
            "text/plain": [
              "AdversarialClassifier(\n",
              "  (sig): Sigmoid()\n",
              "  (layer1): Linear(in_features=2, out_features=64, bias=True)\n",
              "  (layer2): Linear(in_features=64, out_features=64, bias=True)\n",
              "  (layer3): Linear(in_features=64, out_features=64, bias=True)\n",
              "  (decision): Linear(in_features=64, out_features=2, bias=True)\n",
              "  (adversarial): Linear(in_features=64, out_features=4, bias=True)\n",
              ")"
            ]
          },
          "metadata": {
            "tags": []
          },
          "execution_count": 35
        }
      ]
    },
    {
      "metadata": {
        "id": "VYfZcl96b2ST",
        "colab_type": "code",
        "colab": {}
      },
      "cell_type": "code",
      "source": [
        "adv_source_train_set = TensorDataset(torch.from_numpy(quadrant1).float(), torch.from_numpy(labels1), torch.from_numpy(domain1))\n",
        "adv_target_train_set = TensorDataset(torch.from_numpy( np.vstack((quadrant2,quadrant3,quadrant4))).float(), torch.from_numpy( np.vstack((domain2,domain3,domain4))))\n",
        "\n",
        "\n",
        "source_loader = DataLoader(adv_source_train_set, batch_size=batch_size, shuffle=True)\n",
        "target_loader = DataLoader(adv_target_train_set, batch_size=batch_size, shuffle=True)\n",
        "\n"
      ],
      "execution_count": 0,
      "outputs": []
    },
    {
      "metadata": {
        "id": "UadAEwAUcbLw",
        "colab_type": "code",
        "outputId": "7631f44f-878c-4c3d-da0b-5fe75d5795ae",
        "colab": {
          "base_uri": "https://localhost:8080/",
          "height": 1788
        }
      },
      "cell_type": "code",
      "source": [
        "\n",
        "def perf_adv(model, loader):\n",
        "    criterion = nn.CrossEntropyLoss()\n",
        "    model.eval()\n",
        "    total_loss = num = oks = 0\n",
        "    for x, y in loader:\n",
        "        y_scores, _ = model(Variable(x))\n",
        "        y_pred = torch.max(y_scores, 1)[1]\n",
        "        \n",
        "        loss = criterion(y_scores.view(y.size(0) * y.size(1), -1), Variable(y.view(y.size(0) * y.size(1)), volatile=True))\n",
        "        total_loss += loss.data\n",
        "        num += len(y)\n",
        "        oks += torch.sum((y_pred.data == y))\n",
        "        \n",
        "    return total_loss / num, float(oks)/float(num)\n",
        "  \n",
        "  \n",
        "\n",
        "def fit_adv(model, epochs):\n",
        "  criterion = nn.CrossEntropyLoss()\n",
        "  optimizer = optim.Adam(model.parameters())\n",
        "  target_loader_epoch = iter(target_loader)\n",
        "  \n",
        "  for epoch in range(epochs):\n",
        "    \n",
        "    model.train()\n",
        "    total_loss = num = 0\n",
        "    # iterate over batches\n",
        "    for (xs, ys, d1) in source_loader:\n",
        "        \n",
        "      optimizer.zero_grad()\n",
        "      # update lambda and learning rate to ensure stability\n",
        "      p = float(epoch) / epochs\n",
        "      lambd = 2. / (1. + np.exp(-5. * p)) - 1\n",
        "        \n",
        "      # exit if batch size incorrect, get next target batch\n",
        "      if len(xs) < batch_size:\n",
        "        continue\n",
        "        \n",
        "      xt, d2 = next(target_loader_epoch)\n",
        "      if len(xt) < batch_size:\n",
        "        target_loader_epoch = iter(target_loader)\n",
        "        continue      \n",
        "      \n",
        "      y_scores, adv_d1 = model(xs)\n",
        "      _, adv_d2 = model(xt)\n",
        "      \n",
        "      main_loss = criterion(y_scores.view(ys.size(0) * ys.size(1), -1), Variable(ys.view(ys.size(0) * ys.size(1))))\n",
        "      adv_loss1 = criterion(adv_d1.view(d1.size(0) * d1.size(1), -1), Variable(d1.view(d1.size(0) * d1.size(1))))\n",
        "      adv_loss2 = criterion(adv_d2.view(d2.size(0) * d2.size(1), -1), Variable(d2.view(d2.size(0) * d2.size(1))))\n",
        "      \n",
        "      loss = main_loss + lambd*(adv_loss1+adv_loss2)\n",
        "      loss.backward()\n",
        "      optimizer.step()\n",
        "      total_loss += loss.data\n",
        "      num += len(ys)\n",
        "    if(epoch%50 == 0):\n",
        "      print(epoch, lambd, total_loss / num, *perf_adv(model, valid_loader))      \n",
        "      \n",
        "      \n",
        "fit_adv(adversarial_model, 5000)"
      ],
      "execution_count": 42,
      "outputs": [
        {
          "output_type": "stream",
          "text": [
            "/usr/local/lib/python3.6/dist-packages/ipykernel_launcher.py:10: UserWarning: volatile was removed and now has no effect. Use `with torch.no_grad():` instead.\n",
            "  # Remove the CWD from sys.path while we load stuff.\n"
          ],
          "name": "stderr"
        },
        {
          "output_type": "stream",
          "text": [
            "0 0.0 tensor(1.1605e-05) tensor(0.0104) 468.8944\n",
            "50 0.024994792968420665 tensor(5.6955e-05) tensor(0.0107) 469.1152\n",
            "100 0.049958374957880025 tensor(0.0001) tensor(0.0110) 469.6944\n",
            "150 0.0748596906874992 tensor(0.0002) tensor(0.0112) 469.4736\n",
            "200 0.0996679946249559 tensor(0.0002) tensor(0.0113) 468.4528\n",
            "250 0.12435300177159614 tensor(0.0003) tensor(0.0113) 468.6736\n",
            "300 0.14888503362331806 tensor(0.0003) tensor(0.0113) 468.8112\n",
            "350 0.17323515783466026 tensor(0.0004) tensor(0.0114) 468.8112\n",
            "400 0.197375320224904 tensor(0.0004) tensor(0.0113) 469.1696\n",
            "450 0.22127846789844408 tensor(0.0005) tensor(0.0113) 468.9488\n",
            "500 0.2449186624037092 tensor(0.0005) tensor(0.0114) 468.9488\n",
            "550 0.2682711820216015 tensor(0.0006) tensor(0.0115) 469.1696\n",
            "600 0.2913126124515908 tensor(0.0006) tensor(0.0115) 469.1696\n",
            "650 0.31402092534699766 tensor(0.0007) tensor(0.0115) 469.1696\n",
            "700 0.3363755443363323 tensor(0.0007) tensor(0.0114) 469.1696\n",
            "750 0.35835739835078595 tensor(0.0008) tensor(0.0114) 468.9488\n",
            "800 0.379948962255225 tensor(0.0008) tensor(0.0115) 469.4736\n",
            "850 0.401134284947946 tensor(0.0009) tensor(0.0114) 469.832\n",
            "900 0.4218990052500078 tensor(0.0009) tensor(0.0115) 469.528\n",
            "950 0.44223035604572614 tensor(0.0010) tensor(0.0115) 470.2448\n",
            "1000 0.4621171572600098 tensor(0.0010) tensor(0.0115) 469.528\n",
            "1050 0.481549798364308 tensor(0.0010) tensor(0.0114) 469.1696\n",
            "1100 0.5005202111902354 tensor(0.0011) tensor(0.0114) 469.1696\n",
            "1150 0.519021833898222 tensor(0.0011) tensor(0.0114) 469.1696\n",
            "1200 0.5370495669980351 tensor(0.0012) tensor(0.0115) 469.1696\n",
            "1250 0.5545997223493822 tensor(0.0012) tensor(0.0114) 469.832\n",
            "1300 0.5716699660851172 tensor(0.0012) tensor(0.0114) 469.1696\n",
            "1350 0.5882592563981055 tensor(0.0013) tensor(0.0114) 469.1696\n",
            "1400 0.6043677771171636 tensor(0.0013) tensor(0.0114) 469.1696\n",
            "1450 0.6199968679693741 tensor(0.0013) tensor(0.0113) 469.6112\n",
            "1500 0.6351489523872873 tensor(0.0014) tensor(0.0114) 469.1152\n",
            "1550 0.6498274636719203 tensor(0.0014) tensor(0.0114) 469.1696\n",
            "1600 0.6640367702678489 tensor(0.0014) tensor(0.0115) 469.4736\n",
            "1650 0.6777821008468294 tensor(0.0015) tensor(0.0116) 469.1696\n",
            "1700 0.6910694698329305 tensor(0.0015) tensor(0.0116) 468.9488\n",
            "1750 0.7039056039366212 tensor(0.0015) tensor(0.0115) 467.7904\n",
            "1800 0.7162978701990246 tensor(0.0015) tensor(0.0116) 468.232\n",
            "1850 0.7282542059818116 tensor(0.0016) tensor(0.0116) 468.6736\n",
            "1900 0.7397830512740042 tensor(0.0016) tensor(0.0117) 468.4528\n",
            "1950 0.7508932836251672 tensor(0.0016) tensor(0.0118) 468.232\n",
            "2000 0.7615941559557646 tensor(0.0017) tensor(0.0118) 469.1696\n",
            "2050 0.7718952374404182 tensor(0.0017) tensor(0.0118) 468.4528\n",
            "2100 0.7818063576087741 tensor(0.0017) tensor(0.0119) 468.0944\n",
            "2150 0.7913375537619973 tensor(0.0017) tensor(0.0120) 468.8112\n",
            "2200 0.8004990217606296 tensor(0.0017) tensor(0.0120) 468.8112\n",
            "2250 0.8093010702017811 tensor(0.0018) tensor(0.0119) 469.032\n",
            "2300 0.8177540779702877 tensor(0.0018) tensor(0.0121) 469.4736\n",
            "2350 0.8258684551194573 tensor(0.0018) tensor(0.0122) 468.3152\n",
            "2400 0.8336546070121553 tensor(0.0018) tensor(0.0121) 467.8736\n",
            "2450 0.8411229016320432 tensor(0.0018) tensor(0.0121) 467.736\n",
            "2500 0.8482836399575131 tensor(0.0018) tensor(0.0122) 467.9568\n",
            "2550 0.8551470292769645 tensor(0.0019) tensor(0.0123) 468.6736\n",
            "2600 0.8617231593133066 tensor(0.0019) tensor(0.0124) 468.3152\n",
            "2650 0.8680219810175624 tensor(0.0019) tensor(0.0124) 468.3152\n",
            "2700 0.874053287886007 tensor(0.0019) tensor(0.0125) 469.032\n",
            "2750 0.8798266996519848 tensor(0.0019) tensor(0.0126) 469.032\n",
            "2800 0.8853516482022625 tensor(0.0019) tensor(0.0126) 468.8112\n",
            "2850 0.8906373655681183 tensor(0.0019) tensor(0.0127) 469.032\n",
            "2900 0.8956928738431646 tensor(0.0019) tensor(0.0127) 469.032\n",
            "2950 0.9005269768828863 tensor(0.0020) tensor(0.0129) 468.8112\n",
            "3000 0.9051482536448667 tensor(0.0020) tensor(0.0128) 468.9488\n",
            "3050 0.9095650530334249 tensor(0.0020) tensor(0.0127) 468.8112\n",
            "3100 0.9137854901178277 tensor(0.0020) tensor(0.0127) 469.1696\n",
            "3150 0.91781744359907 tensor(0.0020) tensor(0.0127) 468.8112\n",
            "3200 0.9216685544064713 tensor(0.0020) tensor(0.0128) 468.8112\n",
            "3250 0.9253462253117413 tensor(0.0020) tensor(0.0128) 468.232\n",
            "3300 0.9288576214547277 tensor(0.0020) tensor(0.0128) 468.5904\n",
            "3350 0.9322096716816437 tensor(0.0020) tensor(0.0126) 469.032\n",
            "3400 0.9354090706030991 tensor(0.0020) tensor(0.0128) 468.6736\n",
            "3450 0.938462281285704 tensor(0.0021) tensor(0.0128) 468.9776\n",
            "3500 0.9413755384972873 tensor(0.0020) tensor(0.0129) 469.4736\n",
            "3550 0.9441548524318542 tensor(0.0020) tensor(0.0129) 468.3152\n",
            "3600 0.9468060128462681 tensor(0.0021) tensor(0.0130) 468.3152\n",
            "3650 0.9493345935462567 tensor(0.0021) tensor(0.0130) 468.8112\n",
            "3700 0.9517459571646616 tensor(0.0021) tensor(0.0131) 468.4528\n",
            "3750 0.9540452601799487 tensor(0.0021) tensor(0.0131) 468.5904\n",
            "3800 0.9562374581277389 tensor(0.0021) tensor(0.0131) 468.5904\n",
            "3850 0.9583273109626391 tensor(0.0021) tensor(0.0132) 468.5904\n",
            "3900 0.9603193885318451 tensor(0.0021) tensor(0.0133) 468.5904\n",
            "3950 0.9622180761259218 tensor(0.0021) tensor(0.0135) 469.7488\n",
            "4000 0.9640275800758169 tensor(0.0021) tensor(0.0136) 470.4656\n",
            "4050 0.9657519333685447 tensor(0.0021) tensor(0.0136) 469.8864\n",
            "4100 0.9673950012571182 tensor(0.0021) tensor(0.0137) 469.9696\n",
            "4150 0.9689604868431823 tensor(0.0021) tensor(0.0138) 470.1904\n",
            "4200 0.9704519366134539 tensor(0.0021) tensor(0.0138) 470.328\n",
            "4250 0.9718727459135088 tensor(0.0021) tensor(0.0139) 470.6864\n",
            "4300 0.9732261643446702 tensor(0.0021) tensor(0.0140) 470.328\n",
            "4350 0.9745153010717769 tensor(0.0021) tensor(0.0140) 470.2448\n",
            "4400 0.9757431300314514 tensor(0.0021) tensor(0.0141) 470.6864\n",
            "4450 0.9769124950321555 tensor(0.0021) tensor(0.0141) 470.4656\n",
            "4500 0.9780261147388136 tensor(0.0021) tensor(0.0141) 470.6864\n",
            "4550 0.9790865875361636 tensor(0.0021) tensor(0.0142) 470.9072\n",
            "4600 0.9800963962661915 tensor(0.0021) tensor(0.0143) 470.6864\n",
            "4650 0.9810579128361077 tensor(0.0021) tensor(0.0144) 470.6864\n",
            "4700 0.9819734026943041 tensor(0.0021) tensor(0.0144) 470.328\n",
            "4750 0.9828450291725761 tensor(0.0021) tensor(0.0144) 470.1072\n",
            "4800 0.9836748576936802 tensor(0.0021) tensor(0.0144) 469.7488\n",
            "4850 0.9844648598439698 tensor(0.0021) tensor(0.0144) 470.1072\n",
            "4900 0.9852169173114362 tensor(0.0021) tensor(0.0145) 470.0528\n",
            "4950 0.9859328256900097 tensor(0.0021) tensor(0.0145) 470.1072\n"
          ],
          "name": "stdout"
        }
      ]
    },
    {
      "metadata": {
        "id": "5-RohUa7xc1L",
        "colab_type": "code",
        "outputId": "f9761a2e-a840-45b3-db35-1e412d793f90",
        "colab": {
          "base_uri": "https://localhost:8080/",
          "height": 265
        }
      },
      "cell_type": "code",
      "source": [
        "def plot_adv_mesh(model, loader):\n",
        "  \n",
        "    fig, ax = plt.subplots()\n",
        "    model.eval()\n",
        "    for x, y in loader:\n",
        "        y_scores, _ = model(Variable(x))\n",
        "        y_pred = torch.max(y_scores, 1)[1]\n",
        "        ax.scatter( x.numpy()[:,0], x.numpy()[:,1], c=y_pred.numpy() )\n",
        "        \n",
        "        \n",
        "    \n",
        "    circle = plt.Circle((0,0), 1.0, color='r', fill=False)\n",
        "    ax.add_artist(circle)\n",
        "    plt.show()\n",
        "\n",
        "plot_adv_mesh(adversarial_model, valid_loader)"
      ],
      "execution_count": 41,
      "outputs": [
        {
          "output_type": "display_data",
          "data": {
            "image/png": "[encoded data removed]",
            "text/plain": [
              "<matplotlib.figure.Figure at 0x7fe03084af98>"
            ]
          },
          "metadata": {
            "tags": []
          }
        }
      ]
    },
    {
      "metadata": {
        "id": "ldkDZMnlCs6Z",
        "colab_type": "text"
      },
      "cell_type": "markdown",
      "source": [
        "# Excercise\n",
        "\n",
        "Etudiéz l'impact de l'adversarial learning lorsqu'on apprend nos modèle sur les données dans Q1 et Q3\n",
        "et sur Q1 et Q2 ?\n",
        "\n",
        "Et lorsqu'on considere seulement deux domaines?\n",
        "C'est-à-dire Q1 est un domaine, mais Q2, Q3, Q4 sont mis ensemble"
      ]
    }
  ]
}